{
 "cells": [
  {
   "cell_type": "code",
   "execution_count": 72,
   "metadata": {},
   "outputs": [],
   "source": [
    "import pandas as pd"
   ]
  },
  {
   "cell_type": "markdown",
   "metadata": {},
   "source": [
    "# Load and display the dataset"
   ]
  },
  {
   "cell_type": "code",
   "execution_count": 73,
   "metadata": {},
   "outputs": [
    {
     "name": "stdout",
     "output_type": "stream",
     "text": [
      "Original Dataset:\n",
      "   book_id  goodreads_book_id  best_book_id   work_id  books_count       isbn  \\\n",
      "0        1            2767052       2767052   2792775          272  439023483   \n",
      "1        2                  3             3   4640799          491  439554934   \n",
      "2        3              41865         41865   3212258          226  316015849   \n",
      "3        6           11870085      11870085  16827462          226  525478817   \n",
      "4       12           13335037      13335037  13155899          210   62024035   \n",
      "\n",
      "         isbn13                      authors  original_publication_year  \\\n",
      "0  9.780439e+12              Suzanne Collins                     2008.0   \n",
      "1  9.780440e+12  J.K. Rowling, Mary GrandPré                     1997.0   \n",
      "2  9.780316e+12              Stephenie Meyer                     2005.0   \n",
      "3  9.780525e+12                   John Green                     2012.0   \n",
      "4  9.780062e+12                Veronica Roth                     2011.0   \n",
      "\n",
      "                             original_title  ... ratings_count  \\\n",
      "0                          The Hunger Games  ...       4780653   \n",
      "1  Harry Potter and the Philosopher's Stone  ...       4602479   \n",
      "2                                  Twilight  ...       3866839   \n",
      "3                    The Fault in Our Stars  ...       2346404   \n",
      "4                                 Divergent  ...       1903563   \n",
      "\n",
      "  work_ratings_count  work_text_reviews_count  ratings_1  ratings_2  \\\n",
      "0            4942365                   155254      66715     127936   \n",
      "1            4800065                    75867      75504     101676   \n",
      "2            3916824                    95009     456191     436802   \n",
      "3            2478609                   140739      47994      92723   \n",
      "4            2216814                   101023      36315      82870   \n",
      "\n",
      "   ratings_3  ratings_4  ratings_5  \\\n",
      "0     560092    1481305    2706317   \n",
      "1     455024    1156318    3011543   \n",
      "2     793319     875073    1355439   \n",
      "3     327550     698471    1311871   \n",
      "4     310297     673028    1114304   \n",
      "\n",
      "                                           image_url  \\\n",
      "0  https://images.gr-assets.com/books/1447303603m...   \n",
      "1  https://images.gr-assets.com/books/1474154022m...   \n",
      "2  https://images.gr-assets.com/books/1361039443m...   \n",
      "3  https://images.gr-assets.com/books/1360206420m...   \n",
      "4  https://images.gr-assets.com/books/1328559506m...   \n",
      "\n",
      "                                     small_image_url  \n",
      "0  https://images.gr-assets.com/books/1447303603s...  \n",
      "1  https://images.gr-assets.com/books/1474154022s...  \n",
      "2  https://images.gr-assets.com/books/1361039443s...  \n",
      "3  https://images.gr-assets.com/books/1360206420s...  \n",
      "4  https://images.gr-assets.com/books/1328559506s...  \n",
      "\n",
      "[5 rows x 23 columns]\n"
     ]
    }
   ],
   "source": [
    "\n",
    "df = pd.read_csv(\"D:\\\\assignment cloud\\\\books.csv\")\n",
    "\n",
    "print(\"Original Dataset:\")\n",
    "print(df.head())\n"
   ]
  },
  {
   "cell_type": "markdown",
   "metadata": {},
   "source": [
    "Check for missing values"
   ]
  },
  {
   "cell_type": "code",
   "execution_count": 74,
   "metadata": {},
   "outputs": [
    {
     "name": "stdout",
     "output_type": "stream",
     "text": [
      "\n",
      "Missing Values:\n",
      "book_id                        0\n",
      "goodreads_book_id              0\n",
      "best_book_id                   0\n",
      "work_id                        0\n",
      "books_count                    0\n",
      "isbn                          52\n",
      "isbn13                        44\n",
      "authors                        0\n",
      "original_publication_year      3\n",
      "original_title                52\n",
      "title                          0\n",
      "language_code                109\n",
      "average_rating                 0\n",
      "ratings_count                  0\n",
      "work_ratings_count             0\n",
      "work_text_reviews_count        0\n",
      "ratings_1                      0\n",
      "ratings_2                      0\n",
      "ratings_3                      0\n",
      "ratings_4                      0\n",
      "ratings_5                      0\n",
      "image_url                      0\n",
      "small_image_url                0\n",
      "dtype: int64\n"
     ]
    }
   ],
   "source": [
    "print(\"\\nMissing Values:\")\n",
    "print(df.isnull().sum())\n"
   ]
  },
  {
   "cell_type": "code",
   "execution_count": 75,
   "metadata": {},
   "outputs": [
    {
     "name": "stdout",
     "output_type": "stream",
     "text": [
      "\n",
      "Duplicate Rows:\n",
      "Empty DataFrame\n",
      "Columns: [book_id, goodreads_book_id, best_book_id, work_id, books_count, isbn, isbn13, authors, original_publication_year, original_title, title, language_code, average_rating, ratings_count, work_ratings_count, work_text_reviews_count, ratings_1, ratings_2, ratings_3, ratings_4, ratings_5, image_url, small_image_url]\n",
      "Index: []\n",
      "\n",
      "[0 rows x 23 columns]\n"
     ]
    }
   ],
   "source": [
    "# Check for duplicates\n",
    "print(\"\\nDuplicate Rows:\")\n",
    "print(df[df.duplicated()])\n"
   ]
  },
  {
   "cell_type": "markdown",
   "metadata": {},
   "source": [
    "# Drop duplicates"
   ]
  },
  {
   "cell_type": "code",
   "execution_count": 76,
   "metadata": {},
   "outputs": [],
   "source": [
    "df.drop_duplicates(inplace=True)"
   ]
  },
  {
   "cell_type": "markdown",
   "metadata": {},
   "source": [
    "# Display information about the Harry Potter subset"
   ]
  },
  {
   "cell_type": "code",
   "execution_count": 77,
   "metadata": {},
   "outputs": [
    {
     "name": "stdout",
     "output_type": "stream",
     "text": [
      "\n",
      "Harry Potter Subset:\n",
      "      book_id  goodreads_book_id  best_book_id   work_id  books_count  \\\n",
      "1           2                  3             3   4640799          491   \n",
      "6          18                  5             5   2402163          376   \n",
      "8          21                  2             2   2809203          307   \n",
      "9          23              15881         15881   6231171          398   \n",
      "10         24                  6             6   3046572          332   \n",
      "11         25             136251        136251   2963218          263   \n",
      "12         27                  1             1  41335427          275   \n",
      "96        422             862041        862041   2962492           76   \n",
      "613      3753                 10            10  21457570            6   \n",
      "1036     7018             483445        483445    471792           42   \n",
      "1266     9048               2002          2002   8621948            5   \n",
      "\n",
      "            isbn        isbn13                                  authors  \\\n",
      "1      439554934  9.780440e+12              J.K. Rowling, Mary GrandPré   \n",
      "6     043965548X  9.780440e+12  J.K. Rowling, Mary GrandPré, Rufus Beck   \n",
      "8      439358078  9.780439e+12              J.K. Rowling, Mary GrandPré   \n",
      "9      439064864  9.780439e+12              J.K. Rowling, Mary GrandPré   \n",
      "10     439139600  9.780439e+12              J.K. Rowling, Mary GrandPré   \n",
      "11     545010225  9.780545e+12              J.K. Rowling, Mary GrandPré   \n",
      "12     439785960  9.780440e+12              J.K. Rowling, Mary GrandPré   \n",
      "96     545044251  9.780545e+12                             J.K. Rowling   \n",
      "613    439827604  9.780440e+12                             J.K. Rowling   \n",
      "1036  042519891X  9.780425e+12                            David Colbert   \n",
      "1266  043932162X  9.780439e+12                             J.K. Rowling   \n",
      "\n",
      "      original_publication_year  \\\n",
      "1                        1997.0   \n",
      "6                        1999.0   \n",
      "8                        2003.0   \n",
      "9                        1998.0   \n",
      "10                       2000.0   \n",
      "11                       2007.0   \n",
      "12                       2005.0   \n",
      "96                       1998.0   \n",
      "613                      2005.0   \n",
      "1036                     2001.0   \n",
      "1266                     2001.0   \n",
      "\n",
      "                                         original_title  ... ratings_count  \\\n",
      "1              Harry Potter and the Philosopher's Stone  ...       4602479   \n",
      "6              Harry Potter and the Prisoner of Azkaban  ...       1832823   \n",
      "8             Harry Potter and the Order of the Phoenix  ...       1735368   \n",
      "9               Harry Potter and the Chamber of Secrets  ...       1779331   \n",
      "10                  Harry Potter and the Goblet of Fire  ...       1753043   \n",
      "11                 Harry Potter and the Deathly Hallows  ...       1746574   \n",
      "12               Harry Potter and the Half-Blood Prince  ...       1678823   \n",
      "96                      Complete Harry Potter Boxed Set  ...        190050   \n",
      "613        Harry Potter Collection (Harry Potter, #1-6)  ...         24618   \n",
      "1036  The Magical Worlds of Harry Potter: A Treasury...  ...         13820   \n",
      "1266                                                NaN  ...         10736   \n",
      "\n",
      "     work_ratings_count  work_text_reviews_count  ratings_1  ratings_2  \\\n",
      "1               4800065                    75867      75504     101676   \n",
      "6               1969375                    36099       6716      20413   \n",
      "8               1840548                    28685       9528      31577   \n",
      "9               1906199                    34172       8253      42251   \n",
      "10              1868642                    31084       6676      20210   \n",
      "11              1847395                    51942       9363      22245   \n",
      "12              1785676                    27520       7308      21516   \n",
      "96               204125                     6508       1105       1285   \n",
      "613               26274                      882        203        186   \n",
      "1036              15145                      267        329       1125   \n",
      "1266              11732                      185        106        304   \n",
      "\n",
      "      ratings_3  ratings_4  ratings_5  \\\n",
      "1        455024    1156318    3011543   \n",
      "6        166129     509447    1266670   \n",
      "8        180210     494427    1124806   \n",
      "9        242345     548266    1065084   \n",
      "10       151785     494926    1195045   \n",
      "11       113646     383914    1318227   \n",
      "12       136333     459028    1161491   \n",
      "96         7020      30666     164049   \n",
      "613         946       3891      21048   \n",
      "1036       3766       3593       6332   \n",
      "1266       1548       2595       7179   \n",
      "\n",
      "                                              image_url  \\\n",
      "1     https://images.gr-assets.com/books/1474154022m...   \n",
      "6     https://images.gr-assets.com/books/1499277281m...   \n",
      "8     https://images.gr-assets.com/books/1387141547m...   \n",
      "9     https://images.gr-assets.com/books/1474169725m...   \n",
      "10    https://images.gr-assets.com/books/1361482611m...   \n",
      "11    https://images.gr-assets.com/books/1474171184m...   \n",
      "12    https://images.gr-assets.com/books/1361039191m...   \n",
      "96    https://images.gr-assets.com/books/1392579059m...   \n",
      "613   https://images.gr-assets.com/books/1328867351m...   \n",
      "1036  https://s.gr-assets.com/assets/nophoto/book/11...   \n",
      "1266  https://images.gr-assets.com/books/1479775271m...   \n",
      "\n",
      "                                        small_image_url  \n",
      "1     https://images.gr-assets.com/books/1474154022s...  \n",
      "6     https://images.gr-assets.com/books/1499277281s...  \n",
      "8     https://images.gr-assets.com/books/1387141547s...  \n",
      "9     https://images.gr-assets.com/books/1474169725s...  \n",
      "10    https://images.gr-assets.com/books/1361482611s...  \n",
      "11    https://images.gr-assets.com/books/1474171184s...  \n",
      "12    https://images.gr-assets.com/books/1361039191s...  \n",
      "96    https://images.gr-assets.com/books/1392579059s...  \n",
      "613   https://images.gr-assets.com/books/1328867351s...  \n",
      "1036  https://s.gr-assets.com/assets/nophoto/book/50...  \n",
      "1266  https://images.gr-assets.com/books/1479775271s...  \n",
      "\n",
      "[11 rows x 23 columns]\n"
     ]
    }
   ],
   "source": [
    "# Subset creation: Extracting only the Harry Potter books\n",
    "harry_potter_df = df[df['title'].str.contains(\"Harry Potter\")]\n",
    "\n",
    "print(\"\\nHarry Potter Subset:\")\n",
    "print(harry_potter_df)\n",
    "# Save the cleaned dataset to a new CSV file\n",
    "harry_potter_df.to_csv(\"harry_potter_books.csv\", index=False)\n"
   ]
  },
  {
   "cell_type": "markdown",
   "metadata": {},
   "source": [
    "# Data Cleaning and Preprocessing"
   ]
  },
  {
   "cell_type": "code",
   "execution_count": 78,
   "metadata": {},
   "outputs": [
    {
     "name": "stdout",
     "output_type": "stream",
     "text": [
      "\n",
      "Most Selling Books within the Harry Potter Series:\n",
      "                                                title  ratings_count\n",
      "1   Harry Potter and the Sorcerer's Stone (Harry P...        4602479\n",
      "6   Harry Potter and the Prisoner of Azkaban (Harr...        1832823\n",
      "9   Harry Potter and the Chamber of Secrets (Harry...        1779331\n",
      "10  Harry Potter and the Goblet of Fire (Harry Pot...        1753043\n",
      "11  Harry Potter and the Deathly Hallows (Harry Po...        1746574\n",
      "\n",
      "Average Rating of the Harry Potter Books: 4.482727272727273\n"
     ]
    }
   ],
   "source": [
    "# Subset Creation for Harry Potter books\n",
    "harry_potter_df = df[df['title'].str.contains(\"Harry Potter\")]\n",
    "\n",
    "# Find the most selling books within the Harry Potter series\n",
    "most_selling_books = harry_potter_df.sort_values(by='ratings_count', ascending=False).head()\n",
    "\n",
    "# Calculate the average rating of the Harry Potter books\n",
    "average_rating = harry_potter_df['average_rating'].mean()\n",
    "\n",
    "# Display the most selling books and average rating\n",
    "print(\"\\nMost Selling Books within the Harry Potter Series:\")\n",
    "print(most_selling_books[['title', 'ratings_count']])\n",
    "print(\"\\nAverage Rating of the Harry Potter Books:\", average_rating)\n"
   ]
  }
 ],
 "metadata": {
  "kernelspec": {
   "display_name": "Python 3",
   "language": "python",
   "name": "python3"
  },
  "language_info": {
   "codemirror_mode": {
    "name": "ipython",
    "version": 3
   },
   "file_extension": ".py",
   "mimetype": "text/x-python",
   "name": "python",
   "nbconvert_exporter": "python",
   "pygments_lexer": "ipython3",
   "version": "3.12.0"
  }
 },
 "nbformat": 4,
 "nbformat_minor": 2
}
